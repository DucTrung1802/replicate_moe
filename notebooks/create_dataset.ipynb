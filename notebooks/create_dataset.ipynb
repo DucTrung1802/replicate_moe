{
 "cells": [
  {
   "cell_type": "markdown",
   "id": "3023d3bb",
   "metadata": {},
   "source": [
    "# Create dataset"
   ]
  },
  {
   "cell_type": "code",
   "execution_count": 17,
   "id": "e8390523",
   "metadata": {},
   "outputs": [],
   "source": [
    "import torchvision\n",
    "from torchvision import transforms\n",
    "import os\n",
    "import shutil\n",
    "import pickle"
   ]
  },
  {
   "cell_type": "code",
   "execution_count": 18,
   "id": "3e41cf0c",
   "metadata": {},
   "outputs": [],
   "source": [
    "ROOT_PATH = os.path.dirname(os.getcwd())\n",
    "DATA_PATH = os.path.join(ROOT_PATH, \"data\")\n",
    "TRAIN_DATA_PATH = os.path.join(DATA_PATH, \"train\")\n",
    "TEST_DATA_PATH = os.path.join(DATA_PATH, \"test\")"
   ]
  },
  {
   "cell_type": "code",
   "execution_count": 19,
   "id": "244a495f",
   "metadata": {},
   "outputs": [],
   "source": [
    "transform_train = transforms.Compose(\n",
    "    [\n",
    "        transforms.CenterCrop(24),\n",
    "        transforms.Resize(size=32),\n",
    "        transforms.ToTensor(),\n",
    "        transforms.GaussianBlur(kernel_size=(3, 7), sigma=(1.1, 2.2)),\n",
    "        transforms.Normalize((0.4914, 0.4822, 0.4465), (0.2023, 0.1994, 0.2010)),\n",
    "    ]\n",
    ")\n",
    "\n",
    "transform_test = transforms.Compose(\n",
    "    [\n",
    "        transforms.CenterCrop(24),\n",
    "        transforms.Resize(size=32),\n",
    "        transforms.ToTensor(),\n",
    "        transforms.Normalize((0.4914, 0.4822, 0.4465), (0.2023, 0.1994, 0.2010)),\n",
    "    ]\n",
    ")\n",
    "\n",
    "transform_rotate_train = transforms.Compose(\n",
    "    [\n",
    "        torchvision.transforms.RandomRotation((30, 30)),\n",
    "        transforms.CenterCrop(24),\n",
    "        transforms.Resize(size=32),\n",
    "        transforms.ToTensor(),\n",
    "        transforms.GaussianBlur(kernel_size=(3, 7), sigma=(1.1, 2.2)),\n",
    "        transforms.Normalize((0.4914, 0.4822, 0.4465), (0.2023, 0.1994, 0.2010)),\n",
    "    ]\n",
    ")\n",
    "\n",
    "transform_rotate_test = transforms.Compose(\n",
    "    [\n",
    "        torchvision.transforms.RandomRotation((30, 30)),\n",
    "        transforms.CenterCrop(24),\n",
    "        transforms.Resize(size=32),\n",
    "        transforms.ToTensor(),\n",
    "        transforms.Normalize((0.4914, 0.4822, 0.4465), (0.2023, 0.1994, 0.2010)),\n",
    "    ]\n",
    ")"
   ]
  },
  {
   "cell_type": "code",
   "execution_count": 20,
   "id": "ced99c38",
   "metadata": {},
   "outputs": [
    {
     "name": "stdout",
     "output_type": "stream",
     "text": [
      "Removed file: d:\\DATA SCIENCE\\GIT\\replicate_moe\\data\\cifar-10-python.tar.gz\n",
      "Removed directory: d:\\DATA SCIENCE\\GIT\\replicate_moe\\data\\cifar-10-batches-py\n"
     ]
    }
   ],
   "source": [
    "# Load CIFAR-10 train and test datasets\n",
    "train_set = torchvision.datasets.CIFAR10(root=DATA_PATH, train=True, download=True)\n",
    "test_set = torchvision.datasets.CIFAR10(root=DATA_PATH, train=False, download=True)\n",
    "\n",
    "# Class names\n",
    "classes = train_set.classes\n",
    "\n",
    "\n",
    "# Function to save dataset\n",
    "def save_dataset(base_dir, train=True, transform_name=None, transform=None):\n",
    "    dataset = torchvision.datasets.CIFAR10(\n",
    "        root=base_dir, train=train, download=True, transform=transform\n",
    "    )\n",
    "    file_name = (\n",
    "        f\"{\"train\" if train else \"test\"}_{transform_name if transform else \"original\"}\"\n",
    "    )\n",
    "    save_dir = os.path.join(DATA_PATH, f\"{file_name}.pkl\")\n",
    "\n",
    "    with open(save_dir, \"wb\") as f:\n",
    "        pickle.dump(dataset, f)\n",
    "\n",
    "\n",
    "def remove_leftover(data_path=DATA_PATH):\n",
    "    file_path = os.path.join(data_path, \"cifar-10-python.tar.gz\")\n",
    "    dir_path = os.path.join(data_path, \"cifar-10-batches-py\")\n",
    "\n",
    "    # Remove the file if it exists\n",
    "    try:\n",
    "        os.remove(file_path)\n",
    "        print(f\"Removed file: {file_path}\")\n",
    "    except FileNotFoundError:\n",
    "        print(f\"File not found (skipped): {file_path}\")\n",
    "\n",
    "    # Remove the directory and its contents if it exists\n",
    "    try:\n",
    "        shutil.rmtree(dir_path)\n",
    "        print(f\"Removed directory: {dir_path}\")\n",
    "    except FileNotFoundError:\n",
    "        print(f\"Directory not found (skipped): {dir_path}\")\n",
    "\n",
    "\n",
    "# Save train and test datasets\n",
    "save_dataset(\n",
    "    base_dir=DATA_PATH, train=True, transform_name=\"original\", transform=transform_train\n",
    ")\n",
    "\n",
    "save_dataset(\n",
    "    base_dir=DATA_PATH,\n",
    "    train=True,\n",
    "    transform_name=\"rotated\",\n",
    "    transform=transform_rotate_train,\n",
    ")\n",
    "\n",
    "save_dataset(\n",
    "    base_dir=DATA_PATH,\n",
    "    train=False,\n",
    "    transform_name=\"original\",\n",
    "    transform=transform_test,\n",
    ")\n",
    "\n",
    "save_dataset(\n",
    "    base_dir=DATA_PATH,\n",
    "    train=False,\n",
    "    transform_name=\"rotated\",\n",
    "    transform=transform_rotate_test,\n",
    ")\n",
    "remove_leftover()"
   ]
  }
 ],
 "metadata": {
  "kernelspec": {
   "display_name": "moe_env",
   "language": "python",
   "name": "python3"
  },
  "language_info": {
   "codemirror_mode": {
    "name": "ipython",
    "version": 3
   },
   "file_extension": ".py",
   "mimetype": "text/x-python",
   "name": "python",
   "nbconvert_exporter": "python",
   "pygments_lexer": "ipython3",
   "version": "3.13.3"
  }
 },
 "nbformat": 4,
 "nbformat_minor": 5
}
