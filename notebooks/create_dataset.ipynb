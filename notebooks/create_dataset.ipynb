{
 "cells": [
  {
   "cell_type": "markdown",
   "id": "3023d3bb",
   "metadata": {},
   "source": [
    "# Create dataset"
   ]
  },
  {
   "cell_type": "code",
   "execution_count": null,
   "id": "ced99c38",
   "metadata": {},
   "outputs": [
    {
     "name": "stdout",
     "output_type": "stream",
     "text": [
      "File not found (skipped): d:\\DATA SCIENCE\\GIT\\replicate_moe\\data\\cifar-10-python.tar.gz\n",
      "Removed directory: d:\\DATA SCIENCE\\GIT\\replicate_moe\\data\\cifar-10-batches-py\n"
     ]
    }
   ],
   "source": [
    "import torchvision\n",
    "import os\n",
    "import shutil\n",
    "\n",
    "\n",
    "ROOT_PATH = os.path.dirname(os.getcwd())\n",
    "DATA_PATH = os.path.join(ROOT_PATH, \"data\")\n",
    "TRAIN_DATA_PATH = os.path.join(DATA_PATH, \"train\")\n",
    "TEST_DATA_PATH = os.path.join(DATA_PATH, \"test\")\n",
    "\n",
    "# Load CIFAR-10 train and test datasets\n",
    "train_set = torchvision.datasets.CIFAR10(root=DATA_PATH, train=True, download=True)\n",
    "test_set = torchvision.datasets.CIFAR10(root=DATA_PATH, train=False, download=True)\n",
    "\n",
    "# Class names\n",
    "classes = train_set.classes\n",
    "\n",
    "\n",
    "# Function to save dataset\n",
    "def save_dataset(dataset, dataset_type=\"train\", base_dir=DATA_PATH):\n",
    "    save_path = os.path.join(base_dir, dataset_type)\n",
    "    os.makedirs(save_path, exist_ok=True)\n",
    "\n",
    "    # Create folders for each class\n",
    "    for class_name in classes:\n",
    "        os.makedirs(os.path.join(save_path, class_name), exist_ok=True)\n",
    "\n",
    "    # Save each image\n",
    "    for idx, (image, label) in enumerate(dataset):\n",
    "        class_name = classes[label]\n",
    "        filename = os.path.join(save_path, class_name, f\"{idx}.png\")\n",
    "        image.save(filename)\n",
    "\n",
    "\n",
    "def remove_leftover(data_path=DATA_PATH):\n",
    "    file_path = os.path.join(data_path, \"cifar-10-python.tar.gz\")\n",
    "    dir_path = os.path.join(data_path, \"cifar-10-batches-py\")\n",
    "\n",
    "    # Remove the file if it exists\n",
    "    try:\n",
    "        os.remove(file_path)\n",
    "        print(f\"Removed file: {file_path}\")\n",
    "    except FileNotFoundError:\n",
    "        print(f\"File not found (skipped): {file_path}\")\n",
    "\n",
    "    # Remove the directory and its contents if it exists\n",
    "    try:\n",
    "        shutil.rmtree(dir_path)\n",
    "        print(f\"Removed directory: {dir_path}\")\n",
    "    except FileNotFoundError:\n",
    "        print(f\"Directory not found (skipped): {dir_path}\")\n",
    "\n",
    "\n",
    "# Save train and test datasets\n",
    "save_dataset(train_set, \"train\")\n",
    "save_dataset(test_set, \"test\")\n",
    "remove_leftover()"
   ]
  }
 ],
 "metadata": {
  "kernelspec": {
   "display_name": "moe_env",
   "language": "python",
   "name": "python3"
  },
  "language_info": {
   "codemirror_mode": {
    "name": "ipython",
    "version": 3
   },
   "file_extension": ".py",
   "mimetype": "text/x-python",
   "name": "python",
   "nbconvert_exporter": "python",
   "pygments_lexer": "ipython3",
   "version": "3.13.3"
  }
 },
 "nbformat": 4,
 "nbformat_minor": 5
}
