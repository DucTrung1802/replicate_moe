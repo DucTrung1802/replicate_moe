{
 "cells": [
  {
   "cell_type": "markdown",
   "id": "2385f69a",
   "metadata": {},
   "source": [
    "# SingleCNN Training Script"
   ]
  },
  {
   "cell_type": "markdown",
   "id": "bf54b723",
   "metadata": {},
   "source": [
    "## Import libraries"
   ]
  },
  {
   "cell_type": "code",
   "execution_count": 33,
   "id": "3334ac25",
   "metadata": {},
   "outputs": [],
   "source": [
    "import sys\n",
    "import os\n",
    "import pickle\n",
    "import torch\n",
    "import torch.nn as nn\n",
    "import torch.optim as optim\n",
    "import numpy as np\n",
    "\n",
    "# Import the the following path to use user-defined modules\n",
    "sys.path.append(os.path.abspath(os.path.join(os.getcwd(), \"..\")))\n",
    "\n",
    "from utils.constants import TRAIN_ORIGINAL_FILE_PATH, TEST_ORIGINAL_FILE_PATH\n",
    "from utils.utils import seed_worker\n",
    "from models.single_cnn import SingleCNN"
   ]
  },
  {
   "cell_type": "code",
   "execution_count": 34,
   "id": "eb0cd0b4",
   "metadata": {},
   "outputs": [
    {
     "data": {
      "text/plain": [
       "'2.7.0+cu118'"
      ]
     },
     "execution_count": 34,
     "metadata": {},
     "output_type": "execute_result"
    }
   ],
   "source": [
    "torch.__version__"
   ]
  },
  {
   "cell_type": "code",
   "execution_count": 35,
   "id": "5fdf7e1e",
   "metadata": {},
   "outputs": [
    {
     "data": {
      "text/plain": [
       "device(type='cuda')"
      ]
     },
     "execution_count": 35,
     "metadata": {},
     "output_type": "execute_result"
    }
   ],
   "source": [
    "device = torch.device(\"cuda\" if torch.cuda.is_available() else \"cpu\")\n",
    "device"
   ]
  },
  {
   "cell_type": "code",
   "execution_count": 36,
   "id": "773e0c85",
   "metadata": {},
   "outputs": [
    {
     "data": {
      "text/plain": [
       "<torch._C.Generator at 0x1a5b5b35170>"
      ]
     },
     "execution_count": 36,
     "metadata": {},
     "output_type": "execute_result"
    }
   ],
   "source": [
    "g = torch.Generator()\n",
    "g.manual_seed(0)"
   ]
  },
  {
   "cell_type": "markdown",
   "id": "258b3650",
   "metadata": {},
   "source": [
    "## Retrive train data"
   ]
  },
  {
   "cell_type": "code",
   "execution_count": 37,
   "id": "14b051ce",
   "metadata": {},
   "outputs": [],
   "source": [
    "train_data = None\n",
    "with open(TRAIN_ORIGINAL_FILE_PATH, \"rb\") as file:\n",
    "    train_data = pickle.load(file)"
   ]
  },
  {
   "cell_type": "code",
   "execution_count": 38,
   "id": "b4938a87",
   "metadata": {},
   "outputs": [],
   "source": [
    "train_data.targets = torch.tensor(train_data.targets)\n",
    "train_data.cluster = train_data.targets\n",
    "train_data.targets = torch.zeros_like(train_data.targets)"
   ]
  },
  {
   "cell_type": "code",
   "execution_count": 39,
   "id": "25d36b8c",
   "metadata": {},
   "outputs": [],
   "source": [
    "train_loader = torch.utils.data.DataLoader(\n",
    "    train_data,\n",
    "    batch_size=128,\n",
    "    shuffle=True,\n",
    "    num_workers=2,\n",
    "    worker_init_fn=seed_worker,\n",
    "    generator=g,\n",
    ")"
   ]
  },
  {
   "cell_type": "markdown",
   "id": "036f9f59",
   "metadata": {},
   "source": [
    "## Retrive test data"
   ]
  },
  {
   "cell_type": "code",
   "execution_count": 40,
   "id": "a43900e8",
   "metadata": {},
   "outputs": [],
   "source": [
    "test_data = None\n",
    "with open(TEST_ORIGINAL_FILE_PATH, \"rb\") as file:\n",
    "    test_data = pickle.load(file)"
   ]
  },
  {
   "cell_type": "code",
   "execution_count": 41,
   "id": "998883ad",
   "metadata": {},
   "outputs": [],
   "source": [
    "test_data.targets = torch.tensor(test_data.targets)\n",
    "test_data.cluster = test_data.targets\n",
    "test_data.targets = torch.zeros_like(test_data.targets)"
   ]
  },
  {
   "cell_type": "code",
   "execution_count": 42,
   "id": "816c8ef6",
   "metadata": {},
   "outputs": [],
   "source": [
    "test_loader = torch.utils.data.DataLoader(\n",
    "    test_data,\n",
    "    batch_size=100,\n",
    "    shuffle=True,\n",
    "    num_workers=2,\n",
    "    worker_init_fn=seed_worker,\n",
    "    generator=g,\n",
    ")"
   ]
  },
  {
   "cell_type": "markdown",
   "id": "260f43b4",
   "metadata": {},
   "source": [
    "## Create the model"
   ]
  },
  {
   "cell_type": "code",
   "execution_count": 43,
   "id": "b4fcd9a2",
   "metadata": {},
   "outputs": [],
   "source": [
    "model = SingleCNN(input_channels=3, num_classes=10).to(device)\n",
    "optimizer = optim.SGD(model.parameters(), lr=1e-2, momentum=0.9, weight_decay=5e-4)\n",
    "scheduler = torch.optim.lr_scheduler.CosineAnnealingLR(optimizer, T_max=200)"
   ]
  },
  {
   "cell_type": "markdown",
   "id": "ca45b94d",
   "metadata": {},
   "source": [
    "## Criterion"
   ]
  },
  {
   "cell_type": "code",
   "execution_count": 44,
   "id": "7595bf39",
   "metadata": {},
   "outputs": [],
   "source": [
    "criterion = nn.CrossEntropyLoss()"
   ]
  },
  {
   "cell_type": "markdown",
   "id": "d99453d1",
   "metadata": {},
   "source": [
    "## Train the model"
   ]
  },
  {
   "cell_type": "code",
   "execution_count": 45,
   "id": "57cb9234",
   "metadata": {},
   "outputs": [],
   "source": [
    "best_acc = 0  # best test accuracy\n",
    "best_acc_list = []\n",
    "start_epoch = 0  # start from epoch 0 or last checkpoint epoch"
   ]
  },
  {
   "cell_type": "code",
   "execution_count": 46,
   "id": "9ec9294c",
   "metadata": {},
   "outputs": [],
   "source": [
    "def train(epoch):\n",
    "    global model, optimizer, scheduler, criterion\n",
    "    print(f\"\\nTraining - Epoch: {epoch}\")\n",
    "\n",
    "    model.train()\n",
    "    train_loss = 0\n",
    "    correct = 0\n",
    "    total = 0\n",
    "    for batch_idx, (inputs, targets) in enumerate(train_loader):\n",
    "        print(f\"Training - Epoch: {epoch}, Batch: {batch_idx}\")\n",
    "\n",
    "        inputs, targets = inputs.to(device), targets.to(device)\n",
    "        optimizer.zero_grad()\n",
    "\n",
    "        # for optim in optimizers:\n",
    "        #     optim.zero_grad()\n",
    "\n",
    "        # if args.mixture:\n",
    "        #     outputs, _, loss, _ = net(inputs)\n",
    "        #     loss = criterion(outputs, targets) + 0.01 * loss\n",
    "        # else:\n",
    "        #     if args.model == \"resnet18\":\n",
    "        #         outputs, _ = net(inputs)\n",
    "        #     else:\n",
    "        #         outputs = net(inputs)\n",
    "\n",
    "        outputs = model(inputs)\n",
    "        print(f\"Outputs 10x10 block:\\n{outputs[10:20, 10:20]}\")\n",
    "        print(f\"Targets 10x10 block:\\n{targets[10:20, 10:20]}\")\n",
    "\n",
    "        loss = criterion(outputs, targets)\n",
    "        loss.backward()\n",
    "\n",
    "        optimizer.step()\n",
    "\n",
    "        # for optim in optimizers:\n",
    "        #     optim.step()\n",
    "\n",
    "        train_loss += loss.item()\n",
    "        _, predicted = outputs.max(1)\n",
    "        total += targets.size(0)\n",
    "        correct += predicted.eq(targets).sum().item()"
   ]
  },
  {
   "cell_type": "code",
   "execution_count": 47,
   "id": "eb290106",
   "metadata": {},
   "outputs": [],
   "source": [
    "def test(epoch):\n",
    "    global best_acc, model, optimizer, scheduler, criterion\n",
    "    print(f\"\\nTesting - Epoch: {epoch}\")\n",
    "\n",
    "    model.eval()\n",
    "    test_loss = 0\n",
    "    correct = 0\n",
    "    total = 0\n",
    "\n",
    "    with torch.no_grad():\n",
    "        for batch_idx, (inputs, targets) in enumerate(test_loader):\n",
    "            print(f\"Testing - Epoch: {epoch}, Batch: {batch_idx}\")\n",
    "\n",
    "            inputs, targets = (inputs.to(device), targets.to(device))\n",
    "            # if args.mixture:\n",
    "            #     outputs, select0, _, _ = net(inputs)\n",
    "            # else:\n",
    "            #     if args.model == \"resnet18\":\n",
    "            #         outputs, _ = net(inputs)\n",
    "            #     else:\n",
    "            #         outputs = net(inputs)\n",
    "\n",
    "            outputs = model(inputs)\n",
    "            loss = criterion(outputs, targets)\n",
    "\n",
    "            test_loss += loss.item()\n",
    "            _, predicted = outputs.max(1)\n",
    "            total += targets.size(0)\n",
    "            correct += predicted.eq(targets).sum().item()\n",
    "            print(f\"Correct: {correct}, Total: {total}\")\n",
    "\n",
    "    # Save checkpoint.\n",
    "    acc = 100.0 * correct / total\n",
    "    if acc > best_acc:\n",
    "        print(\"Saving...\")\n",
    "        state = {\n",
    "            \"net\": model.state_dict(),\n",
    "            \"acc\": acc,\n",
    "            \"epoch\": epoch,\n",
    "        }\n",
    "        if not os.path.isdir(\"checkpoint\"):\n",
    "            os.mkdir(\"checkpoint\")\n",
    "        torch.save(state, \"./checkpoint/ckpt.pth\")\n",
    "        best_acc = acc"
   ]
  },
  {
   "cell_type": "code",
   "execution_count": 48,
   "id": "ee6e23b7",
   "metadata": {},
   "outputs": [
    {
     "name": "stdout",
     "output_type": "stream",
     "text": [
      "\n",
      "Training - Epoch: 0\n",
      "Training - Epoch: 0, Batch: 0\n",
      "Outputs 10x10 block:\n",
      "tensor([], device='cuda:0', size=(10, 0), grad_fn=<SliceBackward0>)\n"
     ]
    },
    {
     "ename": "IndexError",
     "evalue": "too many indices for tensor of dimension 1",
     "output_type": "error",
     "traceback": [
      "\u001b[31m---------------------------------------------------------------------------\u001b[39m",
      "\u001b[31mIndexError\u001b[39m                                Traceback (most recent call last)",
      "\u001b[36mCell\u001b[39m\u001b[36m \u001b[39m\u001b[32mIn[48]\u001b[39m\u001b[32m, line 2\u001b[39m\n\u001b[32m      1\u001b[39m \u001b[38;5;28;01mfor\u001b[39;00m epoch \u001b[38;5;129;01min\u001b[39;00m \u001b[38;5;28mrange\u001b[39m(\u001b[32m0\u001b[39m, \u001b[32m1\u001b[39m):\n\u001b[32m----> \u001b[39m\u001b[32m2\u001b[39m     \u001b[43mtrain\u001b[49m\u001b[43m(\u001b[49m\u001b[43mepoch\u001b[49m\u001b[43m)\u001b[49m\n\u001b[32m      3\u001b[39m     test(epoch)\n\u001b[32m      4\u001b[39m     scheduler.step()\n",
      "\u001b[36mCell\u001b[39m\u001b[36m \u001b[39m\u001b[32mIn[46]\u001b[39m\u001b[32m, line 29\u001b[39m, in \u001b[36mtrain\u001b[39m\u001b[34m(epoch)\u001b[39m\n\u001b[32m     27\u001b[39m outputs = model(inputs)\n\u001b[32m     28\u001b[39m \u001b[38;5;28mprint\u001b[39m(\u001b[33mf\u001b[39m\u001b[33m\"\u001b[39m\u001b[33mOutputs 10x10 block:\u001b[39m\u001b[38;5;130;01m\\n\u001b[39;00m\u001b[38;5;132;01m{\u001b[39;00moutputs[\u001b[32m10\u001b[39m:\u001b[32m20\u001b[39m,\u001b[38;5;250m \u001b[39m\u001b[32m10\u001b[39m:\u001b[32m20\u001b[39m]\u001b[38;5;132;01m}\u001b[39;00m\u001b[33m\"\u001b[39m)\n\u001b[32m---> \u001b[39m\u001b[32m29\u001b[39m \u001b[38;5;28mprint\u001b[39m(\u001b[33mf\u001b[39m\u001b[33m\"\u001b[39m\u001b[33mTargets 10x10 block:\u001b[39m\u001b[38;5;130;01m\\n\u001b[39;00m\u001b[38;5;132;01m{\u001b[39;00m\u001b[43mtargets\u001b[49m\u001b[43m[\u001b[49m\u001b[32;43m10\u001b[39;49m\u001b[43m:\u001b[49m\u001b[32;43m20\u001b[39;49m\u001b[43m,\u001b[49m\u001b[38;5;250;43m \u001b[39;49m\u001b[32;43m10\u001b[39;49m\u001b[43m:\u001b[49m\u001b[32;43m20\u001b[39;49m\u001b[43m]\u001b[49m\u001b[38;5;132;01m}\u001b[39;00m\u001b[33m\"\u001b[39m)\n\u001b[32m     31\u001b[39m loss = criterion(outputs, targets)\n\u001b[32m     32\u001b[39m loss.backward()\n",
      "\u001b[31mIndexError\u001b[39m: too many indices for tensor of dimension 1"
     ]
    }
   ],
   "source": [
    "for epoch in range(0, 1):\n",
    "    train(epoch)\n",
    "    test(epoch)\n",
    "    scheduler.step()\n",
    "\n",
    "best_acc_list.append(best_acc)\n",
    "best_acc = 0\n",
    "\n",
    "print(\n",
    "    f\"Average accuracy: {np.mean(best_acc_list)} \\t standard deviation: {np.std(best_acc_list)}\"\n",
    ")"
   ]
  }
 ],
 "metadata": {
  "kernelspec": {
   "display_name": "moe_env",
   "language": "python",
   "name": "python3"
  },
  "language_info": {
   "codemirror_mode": {
    "name": "ipython",
    "version": 3
   },
   "file_extension": ".py",
   "mimetype": "text/x-python",
   "name": "python",
   "nbconvert_exporter": "python",
   "pygments_lexer": "ipython3",
   "version": "3.13.3"
  }
 },
 "nbformat": 4,
 "nbformat_minor": 5
}
