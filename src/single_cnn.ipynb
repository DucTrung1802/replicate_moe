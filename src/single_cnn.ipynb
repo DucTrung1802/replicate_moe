{
 "cells": [
  {
   "cell_type": "markdown",
   "id": "2385f69a",
   "metadata": {},
   "source": [
    "# SingleCNN Training Script"
   ]
  },
  {
   "cell_type": "markdown",
   "id": "bf54b723",
   "metadata": {},
   "source": [
    "## Import libraries"
   ]
  },
  {
   "cell_type": "code",
   "execution_count": 45,
   "id": "3334ac25",
   "metadata": {},
   "outputs": [],
   "source": [
    "import sys\n",
    "import os\n",
    "import pickle\n",
    "import torch\n",
    "import torch.nn as nn\n",
    "import torch.optim as optim\n",
    "import numpy as np\n",
    "\n",
    "# Import the the following path to use user-defined modules\n",
    "sys.path.append(os.path.abspath(os.path.join(os.getcwd(), \"..\")))\n",
    "\n",
    "from utils.constants import TRAIN_ORIGINAL_FILE_PATH\n",
    "from utils.utils import seed_worker\n",
    "from models.single_cnn import SingleCNN"
   ]
  },
  {
   "cell_type": "code",
   "execution_count": 46,
   "id": "5fdf7e1e",
   "metadata": {},
   "outputs": [
    {
     "data": {
      "text/plain": [
       "'cpu'"
      ]
     },
     "execution_count": 46,
     "metadata": {},
     "output_type": "execute_result"
    }
   ],
   "source": [
    "device = \"cuda:6\" if torch.cuda.is_available() else \"cpu\"\n",
    "device"
   ]
  },
  {
   "cell_type": "code",
   "execution_count": 31,
   "id": "773e0c85",
   "metadata": {},
   "outputs": [
    {
     "data": {
      "text/plain": [
       "<torch._C.Generator at 0x23c09c24ab0>"
      ]
     },
     "execution_count": 31,
     "metadata": {},
     "output_type": "execute_result"
    }
   ],
   "source": [
    "g = torch.Generator()\n",
    "g.manual_seed(0)"
   ]
  },
  {
   "cell_type": "markdown",
   "id": "258b3650",
   "metadata": {},
   "source": [
    "## Retrive train data"
   ]
  },
  {
   "cell_type": "code",
   "execution_count": 32,
   "id": "14b051ce",
   "metadata": {},
   "outputs": [],
   "source": [
    "train_data = None\n",
    "with open(TRAIN_ORIGINAL_FILE_PATH, \"rb\") as file:\n",
    "    train_data = pickle.load(file)"
   ]
  },
  {
   "cell_type": "code",
   "execution_count": 33,
   "id": "b4938a87",
   "metadata": {},
   "outputs": [],
   "source": [
    "train_data.targets = torch.tensor(train_data.targets)\n",
    "train_data.cluster = train_data.targets\n",
    "train_data.targets = torch.zeros_like(train_data.targets)"
   ]
  },
  {
   "cell_type": "code",
   "execution_count": 34,
   "id": "25d36b8c",
   "metadata": {},
   "outputs": [],
   "source": [
    "train_loader = torch.utils.data.DataLoader(\n",
    "    train_data,\n",
    "    batch_size=128,\n",
    "    shuffle=True,\n",
    "    num_workers=2,\n",
    "    worker_init_fn=seed_worker,\n",
    "    generator=g,\n",
    ")"
   ]
  },
  {
   "cell_type": "markdown",
   "id": "036f9f59",
   "metadata": {},
   "source": [
    "## Retrive test data"
   ]
  },
  {
   "cell_type": "code",
   "execution_count": 35,
   "id": "a43900e8",
   "metadata": {},
   "outputs": [],
   "source": [
    "test_data = None\n",
    "with open(TRAIN_ORIGINAL_FILE_PATH, \"rb\") as file:\n",
    "    test_data = pickle.load(file)"
   ]
  },
  {
   "cell_type": "code",
   "execution_count": 36,
   "id": "998883ad",
   "metadata": {},
   "outputs": [],
   "source": [
    "test_data.targets = torch.tensor(test_data.targets)\n",
    "test_data.cluster = test_data.targets\n",
    "test_data.targets = torch.zeros_like(test_data.targets)"
   ]
  },
  {
   "cell_type": "code",
   "execution_count": 37,
   "id": "816c8ef6",
   "metadata": {},
   "outputs": [],
   "source": [
    "test_loader = torch.utils.data.DataLoader(\n",
    "    test_data,\n",
    "    batch_size=100,\n",
    "    shuffle=True,\n",
    "    num_workers=2,\n",
    "    worker_init_fn=seed_worker,\n",
    "    generator=g,\n",
    ")"
   ]
  },
  {
   "cell_type": "markdown",
   "id": "260f43b4",
   "metadata": {},
   "source": [
    "## Create the model"
   ]
  },
  {
   "cell_type": "code",
   "execution_count": 38,
   "id": "b4fcd9a2",
   "metadata": {},
   "outputs": [],
   "source": [
    "model = SingleCNN(input_channels=3, num_classes=10)\n",
    "optimizer = optim.SGD(model.parameters(), lr=1e-2, momentum=0.9, weight_decay=5e-4)\n",
    "scheduler = torch.optim.lr_scheduler.CosineAnnealingLR(optimizer, T_max=200)"
   ]
  },
  {
   "cell_type": "markdown",
   "id": "ca45b94d",
   "metadata": {},
   "source": [
    "## Criterion"
   ]
  },
  {
   "cell_type": "code",
   "execution_count": 39,
   "id": "7595bf39",
   "metadata": {},
   "outputs": [],
   "source": [
    "criterion = nn.CrossEntropyLoss()"
   ]
  },
  {
   "cell_type": "markdown",
   "id": "d99453d1",
   "metadata": {},
   "source": [
    "## Train the model"
   ]
  },
  {
   "cell_type": "code",
   "execution_count": 40,
   "id": "57cb9234",
   "metadata": {},
   "outputs": [],
   "source": [
    "best_acc = 0  # best test accuracy\n",
    "best_acc_list = []\n",
    "start_epoch = 0  # start from epoch 0 or last checkpoint epoch"
   ]
  },
  {
   "cell_type": "code",
   "execution_count": 41,
   "id": "9ec9294c",
   "metadata": {},
   "outputs": [],
   "source": [
    "def train(epoch):\n",
    "    global model, optimizer, scheduler, criterion\n",
    "    print(f\"\\nEpoch: {epoch}\")\n",
    "\n",
    "    model.train()\n",
    "    train_loss = 0\n",
    "    correct = 0\n",
    "    total = 0\n",
    "    for batch_idx, (inputs, targets) in enumerate(train_loader):\n",
    "        print(f\"Epoch: {epoch}, Batch: {batch_idx}\")\n",
    "\n",
    "        inputs, targets = inputs.to(device), targets.to(device)\n",
    "        optimizer.zero_grad()\n",
    "\n",
    "        # for optim in optimizers:\n",
    "        #     optim.zero_grad()\n",
    "\n",
    "        # if args.mixture:\n",
    "        #     outputs, _, loss, _ = net(inputs)\n",
    "        #     loss = criterion(outputs, targets) + 0.01 * loss\n",
    "        # else:\n",
    "        #     if args.model == \"resnet18\":\n",
    "        #         outputs, _ = net(inputs)\n",
    "        #     else:\n",
    "        #         outputs = net(inputs)\n",
    "\n",
    "        outputs = model(inputs)\n",
    "        loss = criterion(outputs, targets)\n",
    "        loss.backward()\n",
    "\n",
    "        optimizer.step()\n",
    "\n",
    "        # for optim in optimizers:\n",
    "        #     optim.step()\n",
    "\n",
    "        train_loss += loss.item()\n",
    "        _, predicted = outputs.max(1)\n",
    "        total += targets.size(0)\n",
    "        correct += predicted.eq(targets).sum().item()"
   ]
  },
  {
   "cell_type": "code",
   "execution_count": 42,
   "id": "eb290106",
   "metadata": {},
   "outputs": [],
   "source": [
    "def test(epoch):\n",
    "    global best_acc, model, optimizer, scheduler, criterion\n",
    "\n",
    "    model.eval()\n",
    "    test_loss = 0\n",
    "    correct = 0\n",
    "    total = 0\n",
    "\n",
    "    with torch.no_grad():\n",
    "        for batch_idx, (inputs, targets) in enumerate(test_loader):\n",
    "            inputs, targets, clusters = (inputs.to(device), targets.to(device))\n",
    "            # if args.mixture:\n",
    "            #     outputs, select0, _, _ = net(inputs)\n",
    "            # else:\n",
    "            #     if args.model == \"resnet18\":\n",
    "            #         outputs, _ = net(inputs)\n",
    "            #     else:\n",
    "            #         outputs = net(inputs)\n",
    "\n",
    "            outputs = model(inputs)\n",
    "            loss = criterion(outputs, targets)\n",
    "\n",
    "            test_loss += loss.item()\n",
    "            _, predicted = outputs.max(1)\n",
    "            total += targets.size(0)\n",
    "            correct += predicted.eq(targets).sum().item()\n",
    "            correct += predicted.eq(targets).sum().item()\n",
    "\n",
    "    # Save checkpoint.\n",
    "    acc = 100.0 * correct / total\n",
    "    if acc > best_acc:\n",
    "        print(\"Saving..\")\n",
    "        state = {\n",
    "            \"net\": model.state_dict(),\n",
    "            \"acc\": acc,\n",
    "            \"epoch\": epoch,\n",
    "        }\n",
    "        if not os.path.isdir(\"checkpoint\"):\n",
    "            os.mkdir(\"checkpoint\")\n",
    "        torch.save(state, \"./checkpoint/ckpt.pth\")\n",
    "        best_acc = acc"
   ]
  },
  {
   "cell_type": "code",
   "execution_count": 43,
   "id": "ee6e23b7",
   "metadata": {},
   "outputs": [
    {
     "name": "stdout",
     "output_type": "stream",
     "text": [
      "\n",
      "Epoch: 0\n",
      "Epoch: 0, Batch: 0\n",
      "Epoch: 0, Batch: 1\n",
      "Epoch: 0, Batch: 2\n",
      "Epoch: 0, Batch: 3\n",
      "Epoch: 0, Batch: 4\n",
      "Epoch: 0, Batch: 5\n",
      "Epoch: 0, Batch: 6\n",
      "Epoch: 0, Batch: 7\n",
      "Epoch: 0, Batch: 8\n",
      "Epoch: 0, Batch: 9\n",
      "Epoch: 0, Batch: 10\n",
      "Epoch: 0, Batch: 11\n",
      "Epoch: 0, Batch: 12\n",
      "Epoch: 0, Batch: 13\n",
      "Epoch: 0, Batch: 14\n",
      "Epoch: 0, Batch: 15\n",
      "Epoch: 0, Batch: 16\n",
      "Epoch: 0, Batch: 17\n",
      "Epoch: 0, Batch: 18\n",
      "Epoch: 0, Batch: 19\n",
      "Epoch: 0, Batch: 20\n",
      "Epoch: 0, Batch: 21\n",
      "Epoch: 0, Batch: 22\n",
      "Epoch: 0, Batch: 23\n",
      "Epoch: 0, Batch: 24\n",
      "Epoch: 0, Batch: 25\n",
      "Epoch: 0, Batch: 26\n",
      "Epoch: 0, Batch: 27\n",
      "Epoch: 0, Batch: 28\n",
      "Epoch: 0, Batch: 29\n",
      "Epoch: 0, Batch: 30\n",
      "Epoch: 0, Batch: 31\n",
      "Epoch: 0, Batch: 32\n",
      "Epoch: 0, Batch: 33\n",
      "Epoch: 0, Batch: 34\n",
      "Epoch: 0, Batch: 35\n",
      "Epoch: 0, Batch: 36\n",
      "Epoch: 0, Batch: 37\n",
      "Epoch: 0, Batch: 38\n",
      "Epoch: 0, Batch: 39\n",
      "Epoch: 0, Batch: 40\n",
      "Epoch: 0, Batch: 41\n",
      "Epoch: 0, Batch: 42\n",
      "Epoch: 0, Batch: 43\n",
      "Epoch: 0, Batch: 44\n",
      "Epoch: 0, Batch: 45\n",
      "Epoch: 0, Batch: 46\n",
      "Epoch: 0, Batch: 47\n",
      "Epoch: 0, Batch: 48\n",
      "Epoch: 0, Batch: 49\n",
      "Epoch: 0, Batch: 50\n",
      "Epoch: 0, Batch: 51\n",
      "Epoch: 0, Batch: 52\n",
      "Epoch: 0, Batch: 53\n",
      "Epoch: 0, Batch: 54\n",
      "Epoch: 0, Batch: 55\n",
      "Epoch: 0, Batch: 56\n",
      "Epoch: 0, Batch: 57\n",
      "Epoch: 0, Batch: 58\n",
      "Epoch: 0, Batch: 59\n",
      "Epoch: 0, Batch: 60\n",
      "Epoch: 0, Batch: 61\n",
      "Epoch: 0, Batch: 62\n",
      "Epoch: 0, Batch: 63\n",
      "Epoch: 0, Batch: 64\n",
      "Epoch: 0, Batch: 65\n",
      "Epoch: 0, Batch: 66\n",
      "Epoch: 0, Batch: 67\n",
      "Epoch: 0, Batch: 68\n",
      "Epoch: 0, Batch: 69\n",
      "Epoch: 0, Batch: 70\n",
      "Epoch: 0, Batch: 71\n",
      "Epoch: 0, Batch: 72\n",
      "Epoch: 0, Batch: 73\n",
      "Epoch: 0, Batch: 74\n",
      "Epoch: 0, Batch: 75\n",
      "Epoch: 0, Batch: 76\n",
      "Epoch: 0, Batch: 77\n",
      "Epoch: 0, Batch: 78\n",
      "Epoch: 0, Batch: 79\n",
      "Epoch: 0, Batch: 80\n",
      "Epoch: 0, Batch: 81\n",
      "Epoch: 0, Batch: 82\n",
      "Epoch: 0, Batch: 83\n",
      "Epoch: 0, Batch: 84\n",
      "Epoch: 0, Batch: 85\n",
      "Epoch: 0, Batch: 86\n",
      "Epoch: 0, Batch: 87\n",
      "Epoch: 0, Batch: 88\n",
      "Epoch: 0, Batch: 89\n",
      "Epoch: 0, Batch: 90\n",
      "Epoch: 0, Batch: 91\n",
      "Epoch: 0, Batch: 92\n",
      "Epoch: 0, Batch: 93\n",
      "Epoch: 0, Batch: 94\n",
      "Epoch: 0, Batch: 95\n",
      "Epoch: 0, Batch: 96\n",
      "Epoch: 0, Batch: 97\n",
      "Epoch: 0, Batch: 98\n",
      "Epoch: 0, Batch: 99\n"
     ]
    },
    {
     "ename": "KeyboardInterrupt",
     "evalue": "",
     "output_type": "error",
     "traceback": [
      "\u001b[31m---------------------------------------------------------------------------\u001b[39m",
      "\u001b[31mKeyboardInterrupt\u001b[39m                         Traceback (most recent call last)",
      "\u001b[36mCell\u001b[39m\u001b[36m \u001b[39m\u001b[32mIn[43]\u001b[39m\u001b[32m, line 2\u001b[39m\n\u001b[32m      1\u001b[39m \u001b[38;5;28;01mfor\u001b[39;00m epoch \u001b[38;5;129;01min\u001b[39;00m \u001b[38;5;28mrange\u001b[39m(\u001b[32m0\u001b[39m, \u001b[32m1\u001b[39m):\n\u001b[32m----> \u001b[39m\u001b[32m2\u001b[39m     \u001b[43mtrain\u001b[49m\u001b[43m(\u001b[49m\u001b[43mepoch\u001b[49m\u001b[43m)\u001b[49m\n\u001b[32m      3\u001b[39m     test(epoch)\n\u001b[32m      4\u001b[39m     scheduler.step()\n",
      "\u001b[36mCell\u001b[39m\u001b[36m \u001b[39m\u001b[32mIn[41]\u001b[39m\u001b[32m, line 29\u001b[39m, in \u001b[36mtrain\u001b[39m\u001b[34m(epoch)\u001b[39m\n\u001b[32m     27\u001b[39m outputs = model(inputs)\n\u001b[32m     28\u001b[39m loss = criterion(outputs, targets)\n\u001b[32m---> \u001b[39m\u001b[32m29\u001b[39m \u001b[43mloss\u001b[49m\u001b[43m.\u001b[49m\u001b[43mbackward\u001b[49m\u001b[43m(\u001b[49m\u001b[43m)\u001b[49m\n\u001b[32m     31\u001b[39m optimizer.step()\n\u001b[32m     33\u001b[39m \u001b[38;5;66;03m# for optim in optimizers:\u001b[39;00m\n\u001b[32m     34\u001b[39m \u001b[38;5;66;03m#     optim.step()\u001b[39;00m\n",
      "\u001b[36mFile \u001b[39m\u001b[32md:\\DATA SCIENCE\\GIT\\replicate_moe\\moe_env\\Lib\\site-packages\\torch\\_tensor.py:648\u001b[39m, in \u001b[36mTensor.backward\u001b[39m\u001b[34m(self, gradient, retain_graph, create_graph, inputs)\u001b[39m\n\u001b[32m    638\u001b[39m \u001b[38;5;28;01mif\u001b[39;00m has_torch_function_unary(\u001b[38;5;28mself\u001b[39m):\n\u001b[32m    639\u001b[39m     \u001b[38;5;28;01mreturn\u001b[39;00m handle_torch_function(\n\u001b[32m    640\u001b[39m         Tensor.backward,\n\u001b[32m    641\u001b[39m         (\u001b[38;5;28mself\u001b[39m,),\n\u001b[32m   (...)\u001b[39m\u001b[32m    646\u001b[39m         inputs=inputs,\n\u001b[32m    647\u001b[39m     )\n\u001b[32m--> \u001b[39m\u001b[32m648\u001b[39m \u001b[43mtorch\u001b[49m\u001b[43m.\u001b[49m\u001b[43mautograd\u001b[49m\u001b[43m.\u001b[49m\u001b[43mbackward\u001b[49m\u001b[43m(\u001b[49m\n\u001b[32m    649\u001b[39m \u001b[43m    \u001b[49m\u001b[38;5;28;43mself\u001b[39;49m\u001b[43m,\u001b[49m\u001b[43m \u001b[49m\u001b[43mgradient\u001b[49m\u001b[43m,\u001b[49m\u001b[43m \u001b[49m\u001b[43mretain_graph\u001b[49m\u001b[43m,\u001b[49m\u001b[43m \u001b[49m\u001b[43mcreate_graph\u001b[49m\u001b[43m,\u001b[49m\u001b[43m \u001b[49m\u001b[43minputs\u001b[49m\u001b[43m=\u001b[49m\u001b[43minputs\u001b[49m\n\u001b[32m    650\u001b[39m \u001b[43m\u001b[49m\u001b[43m)\u001b[49m\n",
      "\u001b[36mFile \u001b[39m\u001b[32md:\\DATA SCIENCE\\GIT\\replicate_moe\\moe_env\\Lib\\site-packages\\torch\\autograd\\__init__.py:353\u001b[39m, in \u001b[36mbackward\u001b[39m\u001b[34m(tensors, grad_tensors, retain_graph, create_graph, grad_variables, inputs)\u001b[39m\n\u001b[32m    348\u001b[39m     retain_graph = create_graph\n\u001b[32m    350\u001b[39m \u001b[38;5;66;03m# The reason we repeat the same comment below is that\u001b[39;00m\n\u001b[32m    351\u001b[39m \u001b[38;5;66;03m# some Python versions print out the first line of a multi-line function\u001b[39;00m\n\u001b[32m    352\u001b[39m \u001b[38;5;66;03m# calls in the traceback and some print out the last line\u001b[39;00m\n\u001b[32m--> \u001b[39m\u001b[32m353\u001b[39m \u001b[43m_engine_run_backward\u001b[49m\u001b[43m(\u001b[49m\n\u001b[32m    354\u001b[39m \u001b[43m    \u001b[49m\u001b[43mtensors\u001b[49m\u001b[43m,\u001b[49m\n\u001b[32m    355\u001b[39m \u001b[43m    \u001b[49m\u001b[43mgrad_tensors_\u001b[49m\u001b[43m,\u001b[49m\n\u001b[32m    356\u001b[39m \u001b[43m    \u001b[49m\u001b[43mretain_graph\u001b[49m\u001b[43m,\u001b[49m\n\u001b[32m    357\u001b[39m \u001b[43m    \u001b[49m\u001b[43mcreate_graph\u001b[49m\u001b[43m,\u001b[49m\n\u001b[32m    358\u001b[39m \u001b[43m    \u001b[49m\u001b[43minputs\u001b[49m\u001b[43m,\u001b[49m\n\u001b[32m    359\u001b[39m \u001b[43m    \u001b[49m\u001b[43mallow_unreachable\u001b[49m\u001b[43m=\u001b[49m\u001b[38;5;28;43;01mTrue\u001b[39;49;00m\u001b[43m,\u001b[49m\n\u001b[32m    360\u001b[39m \u001b[43m    \u001b[49m\u001b[43maccumulate_grad\u001b[49m\u001b[43m=\u001b[49m\u001b[38;5;28;43;01mTrue\u001b[39;49;00m\u001b[43m,\u001b[49m\n\u001b[32m    361\u001b[39m \u001b[43m\u001b[49m\u001b[43m)\u001b[49m\n",
      "\u001b[36mFile \u001b[39m\u001b[32md:\\DATA SCIENCE\\GIT\\replicate_moe\\moe_env\\Lib\\site-packages\\torch\\autograd\\graph.py:824\u001b[39m, in \u001b[36m_engine_run_backward\u001b[39m\u001b[34m(t_outputs, *args, **kwargs)\u001b[39m\n\u001b[32m    822\u001b[39m     unregister_hooks = _register_logging_hooks_on_whole_graph(t_outputs)\n\u001b[32m    823\u001b[39m \u001b[38;5;28;01mtry\u001b[39;00m:\n\u001b[32m--> \u001b[39m\u001b[32m824\u001b[39m     \u001b[38;5;28;01mreturn\u001b[39;00m \u001b[43mVariable\u001b[49m\u001b[43m.\u001b[49m\u001b[43m_execution_engine\u001b[49m\u001b[43m.\u001b[49m\u001b[43mrun_backward\u001b[49m\u001b[43m(\u001b[49m\u001b[43m  \u001b[49m\u001b[38;5;66;43;03m# Calls into the C++ engine to run the backward pass\u001b[39;49;00m\n\u001b[32m    825\u001b[39m \u001b[43m        \u001b[49m\u001b[43mt_outputs\u001b[49m\u001b[43m,\u001b[49m\u001b[43m \u001b[49m\u001b[43m*\u001b[49m\u001b[43margs\u001b[49m\u001b[43m,\u001b[49m\u001b[43m \u001b[49m\u001b[43m*\u001b[49m\u001b[43m*\u001b[49m\u001b[43mkwargs\u001b[49m\n\u001b[32m    826\u001b[39m \u001b[43m    \u001b[49m\u001b[43m)\u001b[49m  \u001b[38;5;66;03m# Calls into the C++ engine to run the backward pass\u001b[39;00m\n\u001b[32m    827\u001b[39m \u001b[38;5;28;01mfinally\u001b[39;00m:\n\u001b[32m    828\u001b[39m     \u001b[38;5;28;01mif\u001b[39;00m attach_logging_hooks:\n",
      "\u001b[31mKeyboardInterrupt\u001b[39m: "
     ]
    }
   ],
   "source": [
    "for epoch in range(0, 1):\n",
    "    train(epoch)\n",
    "    test(epoch)\n",
    "    scheduler.step()\n",
    "\n",
    "best_acc_list.append(best_acc)\n",
    "best_acc = 0\n",
    "\n",
    "print(\n",
    "    f\"Average accuracy: {np.mean(best_acc_list)} \\t standard deviation: {np.std(best_acc_list)}\"\n",
    ")"
   ]
  }
 ],
 "metadata": {
  "kernelspec": {
   "display_name": "moe_env",
   "language": "python",
   "name": "python3"
  },
  "language_info": {
   "codemirror_mode": {
    "name": "ipython",
    "version": 3
   },
   "file_extension": ".py",
   "mimetype": "text/x-python",
   "name": "python",
   "nbconvert_exporter": "python",
   "pygments_lexer": "ipython3",
   "version": "3.13.3"
  }
 },
 "nbformat": 4,
 "nbformat_minor": 5
}
